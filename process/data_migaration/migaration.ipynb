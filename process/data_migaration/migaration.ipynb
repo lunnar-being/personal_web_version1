{
 "metadata": {
  "language_info": {
   "codemirror_mode": {
    "name": "ipython",
    "version": 3
   },
   "file_extension": ".py",
   "mimetype": "text/x-python",
   "name": "python",
   "nbconvert_exporter": "python",
   "pygments_lexer": "ipython3",
   "version": "3.7.9"
  },
  "orig_nbformat": 2,
  "kernelspec": {
   "name": "python379jvsc74a57bd0670b733a350b17713ebf0e6fcb90908b2c8eee9c883689cb298b0c0e109feac4",
   "display_name": "Python 3.7.9 64-bit ('py37': conda)"
  }
 },
 "nbformat": 4,
 "nbformat_minor": 2,
 "cells": [
  {
   "cell_type": "code",
   "execution_count": 1,
   "metadata": {},
   "outputs": [],
   "source": [
    "import numpy as np\n",
    "import pandas as pd\n",
    "import matplotlib.pyplot as plt\n",
    "import seaborn as sns\n",
    "from pprint import pprint"
   ]
  },
  {
   "cell_type": "code",
   "execution_count": 2,
   "metadata": {},
   "outputs": [
    {
     "output_type": "execute_result",
     "data": {
      "text/plain": [
       "                                                   0\n",
       "0  https://assets.publishing.service.gov.uk/gover...\n",
       "1  https://assets.publishing.service.gov.uk/gover...\n",
       "2  https://assets.publishing.service.gov.uk/gover...\n",
       "3  https://assets.publishing.service.gov.uk/gover...\n",
       "4  https://assets.publishing.service.gov.uk/gover..."
      ],
      "text/html": "<div>\n<style scoped>\n    .dataframe tbody tr th:only-of-type {\n        vertical-align: middle;\n    }\n\n    .dataframe tbody tr th {\n        vertical-align: top;\n    }\n\n    .dataframe thead th {\n        text-align: right;\n    }\n</style>\n<table border=\"1\" class=\"dataframe\">\n  <thead>\n    <tr style=\"text-align: right;\">\n      <th></th>\n      <th>0</th>\n    </tr>\n  </thead>\n  <tbody>\n    <tr>\n      <th>0</th>\n      <td>https://assets.publishing.service.gov.uk/gover...</td>\n    </tr>\n    <tr>\n      <th>1</th>\n      <td>https://assets.publishing.service.gov.uk/gover...</td>\n    </tr>\n    <tr>\n      <th>2</th>\n      <td>https://assets.publishing.service.gov.uk/gover...</td>\n    </tr>\n    <tr>\n      <th>3</th>\n      <td>https://assets.publishing.service.gov.uk/gover...</td>\n    </tr>\n    <tr>\n      <th>4</th>\n      <td>https://assets.publishing.service.gov.uk/gover...</td>\n    </tr>\n  </tbody>\n</table>\n</div>"
     },
     "metadata": {},
     "execution_count": 2
    }
   ],
   "source": [
    "durl = pd.read_csv('./pdf_need_download.csv', header=None)\n",
    "durl.head()"
   ]
  },
  {
   "cell_type": "code",
   "execution_count": 3,
   "metadata": {},
   "outputs": [],
   "source": [
    "durl.columns = ['url']"
   ]
  },
  {
   "cell_type": "code",
   "execution_count": 4,
   "metadata": {},
   "outputs": [
    {
     "output_type": "execute_result",
     "data": {
      "text/plain": [
       "'Human_Rights_and_Democracy_Report_2016_accessible.pdf'"
      ]
     },
     "metadata": {},
     "execution_count": 4
    }
   ],
   "source": [
    "import re\n",
    "\n",
    "def get_name(x):\n",
    "    m = re.search(r'\\/([^\\/]*)$', x)\n",
    "    if not m: return\n",
    "    return m.group(1)\n",
    "get_name('https://assets.publishing.service.gov.uk/government/uploads/system/uploads/attachment_data/file/630623/Human_Rights_and_Democracy_Report_2016_accessible.pdf')"
   ]
  },
  {
   "cell_type": "code",
   "execution_count": 5,
   "metadata": {},
   "outputs": [
    {
     "output_type": "execute_result",
     "data": {
      "text/plain": [
       "0       Human_Rights_and_Democracy_Report_2016_accessi...\n",
       "1                                      p-securitylist.pdf\n",
       "2         Key_Information_for_Manufacturers_Factsheet.pdf\n",
       "3                         ECA740_Boilers_SteamBoilers.pdf\n",
       "4                  11-10-19-gcse-subject-criteria-ict.pdf\n",
       "                              ...                        \n",
       "3536            PPN-01_21-Procurement-in-an-Emergency.pdf\n",
       "3537                               can-i-get-a-blue-badge\n",
       "3538                   domestic-abuse-recognise-the-signs\n",
       "3539                               northwood-headquarters\n",
       "3540                           croatia-medical-facilities\n",
       "Name: name, Length: 3541, dtype: object"
      ]
     },
     "metadata": {},
     "execution_count": 5
    }
   ],
   "source": [
    "import re\n",
    "durl['name'] = durl['url'].map(get_name)\n",
    "durl['name']"
   ]
  },
  {
   "cell_type": "code",
   "execution_count": 6,
   "metadata": {},
   "outputs": [
    {
     "output_type": "execute_result",
     "data": {
      "text/plain": [
       "Permit.pdf                                                                                      7\n",
       "GDPR_-_Homes_England_Privacy_Notice__Full_.pdf                                                  2\n",
       "prom-innov-evi-bas-appr-build-res-resp-hum-cris.pdf                                             2\n",
       "CME_Programme_Factsheet__FINAL.pdf                                                              2\n",
       "eia-innovation-fund-round-2.pdf                                                                 2\n",
       "EPRR-Summary-of-the-principal-roles-of-health-sector-organisations.pdf                          2\n",
       "RPC14-BIS-1965_2__-_Zero_hours_contracts_-_banning_exclusivity_clauses_-_IA_f__-_opinion.pdf    2\n",
       "SLCP-4.09.02.pdf                                                                                2\n",
       "DoH-Review-of-Information-and-Technology-Use-Final-Report-V2.pdf                                2\n",
       "Name: name, dtype: int64"
      ]
     },
     "metadata": {},
     "execution_count": 6
    }
   ],
   "source": [
    "counter = durl['name'].value_counts()\n",
    "counter_dup = counter[counter > 1]\n",
    "counter_dup"
   ]
  },
  {
   "cell_type": "code",
   "execution_count": 7,
   "metadata": {},
   "outputs": [
    {
     "output_type": "execute_result",
     "data": {
      "text/plain": [
       "0       1\n",
       "1       1\n",
       "2       1\n",
       "3       1\n",
       "4       1\n",
       "       ..\n",
       "3536    1\n",
       "3537    1\n",
       "3538    1\n",
       "3539    1\n",
       "3540    1\n",
       "Name: count, Length: 3541, dtype: int64"
      ]
     },
     "metadata": {},
     "execution_count": 7
    }
   ],
   "source": [
    "durl['count'] = durl['name'].map(counter)\n",
    "durl['count']"
   ]
  },
  {
   "cell_type": "code",
   "execution_count": 8,
   "metadata": {},
   "outputs": [
    {
     "output_type": "execute_result",
     "data": {
      "text/plain": [
       "1    3518\n",
       "2      16\n",
       "7       7\n",
       "Name: count, dtype: int64"
      ]
     },
     "metadata": {},
     "execution_count": 8
    }
   ],
   "source": [
    "durl['count'].value_counts()"
   ]
  },
  {
   "cell_type": "code",
   "execution_count": 9,
   "metadata": {},
   "outputs": [],
   "source": [
    "import hashlib\n",
    "def get_md5_str(s_):\n",
    "    \"\"\"\n",
    "    将字符串转换成md5\n",
    "    所有文件的名称都用 文件链接的 md5\n",
    "    \"\"\"\n",
    "    return hashlib.md5(s_.encode(\"utf-8\")).hexdigest()"
   ]
  },
  {
   "cell_type": "code",
   "execution_count": 10,
   "metadata": {},
   "outputs": [
    {
     "output_type": "stream",
     "name": "stdout",
     "text": [
      "(3541, 3)\n"
     ]
    },
    {
     "output_type": "execute_result",
     "data": {
      "text/plain": [
       "(3419, 3)"
      ]
     },
     "metadata": {},
     "execution_count": 10
    }
   ],
   "source": [
    "print(durl.shape)\n",
    "durl_drop = durl[durl['count'] == 1 & durl['name'].map(lambda x: x.lower().endswith('.pdf'))].copy()\n",
    "durl_drop.shape"
   ]
  },
  {
   "cell_type": "code",
   "execution_count": 11,
   "metadata": {},
   "outputs": [
    {
     "output_type": "execute_result",
     "data": {
      "text/plain": [
       "                                                 url  \\\n",
       "0  https://assets.publishing.service.gov.uk/gover...   \n",
       "1  https://assets.publishing.service.gov.uk/gover...   \n",
       "2  https://assets.publishing.service.gov.uk/gover...   \n",
       "3  https://assets.publishing.service.gov.uk/gover...   \n",
       "4  https://assets.publishing.service.gov.uk/gover...   \n",
       "\n",
       "                                                name  count  \\\n",
       "0  Human_Rights_and_Democracy_Report_2016_accessi...      1   \n",
       "1                                 p-securitylist.pdf      1   \n",
       "2    Key_Information_for_Manufacturers_Factsheet.pdf      1   \n",
       "3                    ECA740_Boilers_SteamBoilers.pdf      1   \n",
       "4             11-10-19-gcse-subject-criteria-ict.pdf      1   \n",
       "\n",
       "                                md5  \n",
       "0  97e07c26ba118c3f7d5c2e9b09b669be  \n",
       "1  a1a90347ae5133353a80c5b33142c005  \n",
       "2  4f457648bd1a2308241f67935e2412ca  \n",
       "3  d4668d6a2130e69a584eab74f10f298b  \n",
       "4  28e41ee969fdb1505cd2c700c5ecea5f  "
      ],
      "text/html": "<div>\n<style scoped>\n    .dataframe tbody tr th:only-of-type {\n        vertical-align: middle;\n    }\n\n    .dataframe tbody tr th {\n        vertical-align: top;\n    }\n\n    .dataframe thead th {\n        text-align: right;\n    }\n</style>\n<table border=\"1\" class=\"dataframe\">\n  <thead>\n    <tr style=\"text-align: right;\">\n      <th></th>\n      <th>url</th>\n      <th>name</th>\n      <th>count</th>\n      <th>md5</th>\n    </tr>\n  </thead>\n  <tbody>\n    <tr>\n      <th>0</th>\n      <td>https://assets.publishing.service.gov.uk/gover...</td>\n      <td>Human_Rights_and_Democracy_Report_2016_accessi...</td>\n      <td>1</td>\n      <td>97e07c26ba118c3f7d5c2e9b09b669be</td>\n    </tr>\n    <tr>\n      <th>1</th>\n      <td>https://assets.publishing.service.gov.uk/gover...</td>\n      <td>p-securitylist.pdf</td>\n      <td>1</td>\n      <td>a1a90347ae5133353a80c5b33142c005</td>\n    </tr>\n    <tr>\n      <th>2</th>\n      <td>https://assets.publishing.service.gov.uk/gover...</td>\n      <td>Key_Information_for_Manufacturers_Factsheet.pdf</td>\n      <td>1</td>\n      <td>4f457648bd1a2308241f67935e2412ca</td>\n    </tr>\n    <tr>\n      <th>3</th>\n      <td>https://assets.publishing.service.gov.uk/gover...</td>\n      <td>ECA740_Boilers_SteamBoilers.pdf</td>\n      <td>1</td>\n      <td>d4668d6a2130e69a584eab74f10f298b</td>\n    </tr>\n    <tr>\n      <th>4</th>\n      <td>https://assets.publishing.service.gov.uk/gover...</td>\n      <td>11-10-19-gcse-subject-criteria-ict.pdf</td>\n      <td>1</td>\n      <td>28e41ee969fdb1505cd2c700c5ecea5f</td>\n    </tr>\n  </tbody>\n</table>\n</div>"
     },
     "metadata": {},
     "execution_count": 11
    }
   ],
   "source": [
    "durl_drop['md5'] = durl_drop['url'].map(get_md5_str)\n",
    "durl_drop.head()"
   ]
  },
  {
   "cell_type": "code",
   "execution_count": 12,
   "metadata": {},
   "outputs": [
    {
     "output_type": "execute_result",
     "data": {
      "text/plain": [
       "                                                 url  \\\n",
       "0  https://assets.publishing.service.gov.uk/gover...   \n",
       "1  https://assets.publishing.service.gov.uk/gover...   \n",
       "2  https://assets.publishing.service.gov.uk/gover...   \n",
       "3  https://assets.publishing.service.gov.uk/gover...   \n",
       "4  https://assets.publishing.service.gov.uk/gover...   \n",
       "\n",
       "                                                name  count  \\\n",
       "0  Human_Rights_and_Democracy_Report_2016_accessi...      1   \n",
       "1                                 p-securitylist.pdf      1   \n",
       "2    Key_Information_for_Manufacturers_Factsheet.pdf      1   \n",
       "3                    ECA740_Boilers_SteamBoilers.pdf      1   \n",
       "4             11-10-19-gcse-subject-criteria-ict.pdf      1   \n",
       "\n",
       "                                md5  \\\n",
       "0  97e07c26ba118c3f7d5c2e9b09b669be   \n",
       "1  a1a90347ae5133353a80c5b33142c005   \n",
       "2  4f457648bd1a2308241f67935e2412ca   \n",
       "3  d4668d6a2130e69a584eab74f10f298b   \n",
       "4  28e41ee969fdb1505cd2c700c5ecea5f   \n",
       "\n",
       "                                     file_name  \n",
       "0  origin_97e07c26ba118c3f7d5c2e9b09b669be.pdf  \n",
       "1  origin_a1a90347ae5133353a80c5b33142c005.pdf  \n",
       "2  origin_4f457648bd1a2308241f67935e2412ca.pdf  \n",
       "3  origin_d4668d6a2130e69a584eab74f10f298b.pdf  \n",
       "4  origin_28e41ee969fdb1505cd2c700c5ecea5f.pdf  "
      ],
      "text/html": "<div>\n<style scoped>\n    .dataframe tbody tr th:only-of-type {\n        vertical-align: middle;\n    }\n\n    .dataframe tbody tr th {\n        vertical-align: top;\n    }\n\n    .dataframe thead th {\n        text-align: right;\n    }\n</style>\n<table border=\"1\" class=\"dataframe\">\n  <thead>\n    <tr style=\"text-align: right;\">\n      <th></th>\n      <th>url</th>\n      <th>name</th>\n      <th>count</th>\n      <th>md5</th>\n      <th>file_name</th>\n    </tr>\n  </thead>\n  <tbody>\n    <tr>\n      <th>0</th>\n      <td>https://assets.publishing.service.gov.uk/gover...</td>\n      <td>Human_Rights_and_Democracy_Report_2016_accessi...</td>\n      <td>1</td>\n      <td>97e07c26ba118c3f7d5c2e9b09b669be</td>\n      <td>origin_97e07c26ba118c3f7d5c2e9b09b669be.pdf</td>\n    </tr>\n    <tr>\n      <th>1</th>\n      <td>https://assets.publishing.service.gov.uk/gover...</td>\n      <td>p-securitylist.pdf</td>\n      <td>1</td>\n      <td>a1a90347ae5133353a80c5b33142c005</td>\n      <td>origin_a1a90347ae5133353a80c5b33142c005.pdf</td>\n    </tr>\n    <tr>\n      <th>2</th>\n      <td>https://assets.publishing.service.gov.uk/gover...</td>\n      <td>Key_Information_for_Manufacturers_Factsheet.pdf</td>\n      <td>1</td>\n      <td>4f457648bd1a2308241f67935e2412ca</td>\n      <td>origin_4f457648bd1a2308241f67935e2412ca.pdf</td>\n    </tr>\n    <tr>\n      <th>3</th>\n      <td>https://assets.publishing.service.gov.uk/gover...</td>\n      <td>ECA740_Boilers_SteamBoilers.pdf</td>\n      <td>1</td>\n      <td>d4668d6a2130e69a584eab74f10f298b</td>\n      <td>origin_d4668d6a2130e69a584eab74f10f298b.pdf</td>\n    </tr>\n    <tr>\n      <th>4</th>\n      <td>https://assets.publishing.service.gov.uk/gover...</td>\n      <td>11-10-19-gcse-subject-criteria-ict.pdf</td>\n      <td>1</td>\n      <td>28e41ee969fdb1505cd2c700c5ecea5f</td>\n      <td>origin_28e41ee969fdb1505cd2c700c5ecea5f.pdf</td>\n    </tr>\n  </tbody>\n</table>\n</div>"
     },
     "metadata": {},
     "execution_count": 12
    }
   ],
   "source": [
    "durl_drop['file_name'] = durl_drop['md5'].map(lambda x: 'origin_' + x + '.pdf')\n",
    "durl_drop.head()"
   ]
  },
  {
   "cell_type": "code",
   "execution_count": 14,
   "metadata": {},
   "outputs": [],
   "source": [
    "import os\n",
    "def change_file_name(old, new):\n",
    "    old = os.path.join('/Users/bytedance/Downloads/us_pdf', old)\n",
    "    new = os.path.join('/Users/bytedance/Downloads/us_pdf_rename', new)\n",
    "    if os.path.exists(old):\n",
    "        os.rename(old, new)\n",
    "        return True\n",
    "    return False\n",
    "\n",
    "durl_drop['rename_res'] = durl_drop.apply(lambda x: change_file_name(x['name'], x['file_name']), axis=1)"
   ]
  },
  {
   "cell_type": "code",
   "execution_count": 15,
   "metadata": {},
   "outputs": [
    {
     "output_type": "execute_result",
     "data": {
      "text/plain": [
       "True     3402\n",
       "False      17\n",
       "Name: rename_res, dtype: int64"
      ]
     },
     "metadata": {},
     "execution_count": 15
    }
   ],
   "source": [
    "durl_drop['rename_res'].value_counts()"
   ]
  },
  {
   "cell_type": "code",
   "execution_count": 16,
   "metadata": {},
   "outputs": [],
   "source": [
    "durl_drop.to_csv('file_download_and_rename.csv')"
   ]
  },
  {
   "cell_type": "code",
   "execution_count": null,
   "metadata": {},
   "outputs": [],
   "source": []
  }
 ]
}